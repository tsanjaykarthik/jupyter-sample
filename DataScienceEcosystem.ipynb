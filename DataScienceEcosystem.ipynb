{
 "cells": [
  {
   "cell_type": "markdown",
   "id": "5f49a7dc-d8e1-487d-aa92-ad352eb9d2f8",
   "metadata": {},
   "source": [
    "# Data Science Tools and Ecosystem"
   ]
  },
  {
   "cell_type": "markdown",
   "id": "48392ca0-04b2-4d58-bec5-7d88b9ab2ce1",
   "metadata": {},
   "source": [
    "In this note bok you can find data science tools and ecosystem."
   ]
  },
  {
   "cell_type": "markdown",
   "id": "4c7e2b1b-1d26-4d83-914b-867d545abea3",
   "metadata": {},
   "source": [
    "Some Data Science languages are:\n",
    "1. C++\n",
    "2. R\n",
    "3. SQL\n",
    "4. Java...etc;"
   ]
  },
  {
   "cell_type": "markdown",
   "id": "c23bd46d-52ed-441f-80d4-490a81032c5e",
   "metadata": {},
   "source": [
    "Some of the Commonly used libraries:\n",
    "1. Numpy\n",
    "2. Scipy\n",
    "3. Pytorch\n",
    "4. Tensorflow...etc;"
   ]
  },
  {
   "cell_type": "markdown",
   "id": "c898921e-7ae1-4991-a1d8-e18faa6c633f",
   "metadata": {},
   "source": [
    "|Data Science Tools|\n",
    "|---|\n",
    "|SAS|\n",
    "|Hadoop|\n",
    "|Apache Hadoop|\n",
    "|TensorFlow|"
   ]
  },
  {
   "cell_type": "markdown",
   "id": "c1e67a7f-49e2-44eb-aee9-8005570cdb5c",
   "metadata": {},
   "source": [
    "### Below are the examples for arithmatic expression."
   ]
  },
  {
   "cell_type": "code",
   "execution_count": 20,
   "id": "b10dc151-398d-4f48-8c0c-d4171e639c3f",
   "metadata": {},
   "outputs": [
    {
     "data": {
      "text/plain": [
       "17"
      ]
     },
     "execution_count": 20,
     "metadata": {},
     "output_type": "execute_result"
    }
   ],
   "source": [
    "# multiply and integers \n",
    "(3*4)+5"
   ]
  },
  {
   "cell_type": "code",
   "execution_count": 24,
   "id": "34acf66a-5cba-4fb8-b6b4-c4d3d38cc300",
   "metadata": {},
   "outputs": [
    {
     "data": {
      "text/plain": [
       "3.3333333333333335"
      ]
     },
     "execution_count": 24,
     "metadata": {},
     "output_type": "execute_result"
    }
   ],
   "source": [
    "# This will convert 200 min to hours\n",
    "200/60"
   ]
  },
  {
   "cell_type": "markdown",
   "id": "1f56a84b-76bd-4100-a0ad-fbe6a3bab18a",
   "metadata": {},
   "source": [
    "__objective__\n",
    "* List Popular Languages for Data Science\n",
    "* List Popular Libraries for Data Science\n",
    "* List of well known Data Science Tools\n",
    "* How to provide comments in the cells"
   ]
  },
  {
   "cell_type": "markdown",
   "id": "8e90ecc9-d3a8-4f1b-8ea7-b61f0eb08d80",
   "metadata": {},
   "source": [
    "## Author\n",
    "Sanjay Karthik T"
   ]
  }
 ],
 "metadata": {
  "kernelspec": {
   "display_name": "Python 3 (ipykernel)",
   "language": "python",
   "name": "python3"
  },
  "language_info": {
   "codemirror_mode": {
    "name": "ipython",
    "version": 3
   },
   "file_extension": ".py",
   "mimetype": "text/x-python",
   "name": "python",
   "nbconvert_exporter": "python",
   "pygments_lexer": "ipython3",
   "version": "3.12.4"
  }
 },
 "nbformat": 4,
 "nbformat_minor": 5
}
